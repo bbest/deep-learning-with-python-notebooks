{
 "cells": [
  {
   "cell_type": "code",
   "execution_count": 1,
   "metadata": {},
   "outputs": [
    {
     "name": "stderr",
     "output_type": "stream",
     "text": [
      "2022-02-22 18:25:30.067571: W tensorflow/stream_executor/platform/default/dso_loader.cc:64] Could not load dynamic library 'libcudart.so.11.0'; dlerror: libcudart.so.11.0: cannot open shared object file: No such file or directory; LD_LIBRARY_PATH: /opt/R/4.0.5/lib/R/lib::/lib:/usr/local/lib:/usr/lib/x86_64-linux-gnu:/usr/lib/jvm/java-11-openjdk-amd64/lib/server\n",
      "2022-02-22 18:25:30.067604: I tensorflow/stream_executor/cuda/cudart_stub.cc:29] Ignore above cudart dlerror if you do not have a GPU set up on your machine.\n"
     ]
    },
    {
     "data": {
      "text/plain": [
       "'2.6.0'"
      ]
     },
     "execution_count": 1,
     "metadata": {},
     "output_type": "execute_result"
    }
   ],
   "source": [
    "import keras\n",
    "keras.__version__"
   ]
  },
  {
   "cell_type": "markdown",
   "metadata": {},
   "source": [
    "# Overfitting and underfitting\n",
    "\n",
    "This notebook contains the code samples found in Chapter 3, Section 6 of [Deep Learning with Python](https://www.manning.com/books/deep-learning-with-python?a_aid=keras&a_bid=76564dff). Note that the original text features far more content, in particular further explanations and figures: in this notebook, you will only find source code and related comments.\n",
    "\n",
    "----\n",
    "\n",
    "\n",
    "In all the examples we saw in the previous chapter -- movie review sentiment prediction, topic classification, and house price regression -- \n",
    "we could notice that the performance of our model on the held-out validation data would always peak after a few epochs and would then start \n",
    "degrading, i.e. our model would quickly start to _overfit_ to the training data. Overfitting happens in every single machine learning \n",
    "problem. Learning how to deal with overfitting is essential to mastering machine learning.\n",
    "\n",
    "The fundamental issue in machine learning is the tension between optimization and generalization. \"Optimization\" refers to the process of \n",
    "adjusting a model to get the best performance possible on the training data (the \"learning\" in \"machine learning\"), while \"generalization\" \n",
    "refers to how well the trained model would perform on data it has never seen before. The goal of the game is to get good generalization, of \n",
    "course, but you do not control generalization; you can only adjust the model based on its training data.\n",
    "\n",
    "At the beginning of training, optimization and generalization are correlated: the lower your loss on training data, the lower your loss on \n",
    "test data. While this is happening, your model is said to be _under-fit_: there is still progress to be made; the network hasn't yet \n",
    "modeled all relevant patterns in the training data. But after a certain number of iterations on the training data, generalization stops \n",
    "improving, validation metrics stall then start degrading: the model is then starting to over-fit, i.e. is it starting to learn patterns \n",
    "that are specific to the training data but that are misleading or irrelevant when it comes to new data.\n",
    "\n",
    "To prevent a model from learning misleading or irrelevant patterns found in the training data, _the best solution is of course to get \n",
    "more training data_. A model trained on more data will naturally generalize better. When that is no longer possible, the next best solution \n",
    "is to modulate the quantity of information that your model is allowed to store, or to add constraints on what information it is allowed to \n",
    "store. If a network can only afford to memorize a small number of patterns, the optimization process will force it to focus on the most \n",
    "prominent patterns, which have a better chance of generalizing well.\n",
    "\n",
    "The processing of fighting overfitting in this way is called _regularization_. Let's review some of the most common regularization \n",
    "techniques, and let's apply them in practice to improve our movie classification model from  the previous chapter."
   ]
  },
  {
   "cell_type": "markdown",
   "metadata": {},
   "source": [
    "Note: in this notebook we will be using the IMDB test set as our validation set. It doesn't matter in this context.\n",
    "\n",
    "Let's prepare the data using the code from Chapter 3, Section 5:"
   ]
  },
  {
   "cell_type": "code",
   "execution_count": 2,
   "metadata": {
    "tags": []
   },
   "outputs": [],
   "source": [
    "from keras.datasets import imdb\n",
    "import numpy as np\n",
    "\n",
    "(train_data, train_labels), (test_data, test_labels) = imdb.load_data(num_words=10000)\n",
    "\n",
    "def vectorize_sequences(sequences, dimension=10000):\n",
    "    # Create an all-zero matrix of shape (len(sequences), dimension)\n",
    "    results = np.zeros((len(sequences), dimension))\n",
    "    for i, sequence in enumerate(sequences):\n",
    "        results[i, sequence] = 1.  # set specific indices of results[i] to 1s\n",
    "    return results\n",
    "\n",
    "# Our vectorized training data\n",
    "x_train = vectorize_sequences(train_data)\n",
    "# Our vectorized test data\n",
    "x_test = vectorize_sequences(test_data)\n",
    "# Our vectorized labels\n",
    "y_train = np.asarray(train_labels).astype('float32')\n",
    "y_test = np.asarray(test_labels).astype('float32')"
   ]
  },
  {
   "cell_type": "markdown",
   "metadata": {},
   "source": [
    "# Fighting overfitting\n",
    "\n",
    "## Reducing the network's size\n",
    "\n",
    "\n",
    "The simplest way to prevent overfitting is to reduce the size of the model, i.e. the number of learnable parameters in the model (which is \n",
    "determined by the number of layers and the number of units per layer). In deep learning, the number of learnable parameters in a model is \n",
    "often referred to as the model's \"capacity\". Intuitively, a model with more parameters will have more \"memorization capacity\" and therefore \n",
    "will be able to easily learn a perfect dictionary-like mapping between training samples and their targets, a mapping without any \n",
    "generalization power. For instance, a model with 500,000 binary parameters could easily be made to learn the class of every digits in the \n",
    "MNIST training set: we would only need 10 binary parameters for each of the 50,000 digits. Such a model would be useless for classifying \n",
    "new digit samples. Always keep this in mind: deep learning models tend to be good at fitting to the training data, but the real challenge \n",
    "is generalization, not fitting.\n",
    "\n",
    "On the other hand, if the network has limited memorization resources, it will not be able to learn this mapping as easily, and thus, in \n",
    "order to minimize its loss, it will have to resort to learning compressed representations that have predictive power regarding the targets \n",
    "-- precisely the type of representations that we are interested in. At the same time, keep in mind that you should be using models that have \n",
    "enough parameters that they won't be underfitting: your model shouldn't be starved for memorization resources. There is a compromise to be \n",
    "found between \"too much capacity\" and \"not enough capacity\".\n",
    "\n",
    "Unfortunately, there is no magical formula to determine what the right number of layers is, or what the right size for each layer is. You \n",
    "will have to evaluate an array of different architectures (on your validation set, not on your test set, of course) in order to find the \n",
    "right model size for your data. The general workflow to find an appropriate model size is to start with relatively few layers and \n",
    "parameters, and start increasing the size of the layers or adding new layers until you see diminishing returns with regard to the \n",
    "validation loss.\n",
    "\n",
    "Let's try this on our movie review classification network. Our original network was as such:"
   ]
  },
  {
   "cell_type": "code",
   "execution_count": 3,
   "metadata": {
    "tags": []
   },
   "outputs": [
    {
     "name": "stderr",
     "output_type": "stream",
     "text": [
      "2022-02-22 18:25:38.314003: W tensorflow/stream_executor/platform/default/dso_loader.cc:64] Could not load dynamic library 'libcuda.so.1'; dlerror: libcuda.so.1: cannot open shared object file: No such file or directory; LD_LIBRARY_PATH: /opt/R/4.0.5/lib/R/lib::/lib:/usr/local/lib:/usr/lib/x86_64-linux-gnu:/usr/lib/jvm/java-11-openjdk-amd64/lib/server\n",
      "2022-02-22 18:25:38.314098: W tensorflow/stream_executor/cuda/cuda_driver.cc:269] failed call to cuInit: UNKNOWN ERROR (303)\n",
      "2022-02-22 18:25:38.314125: I tensorflow/stream_executor/cuda/cuda_diagnostics.cc:156] kernel driver does not appear to be running on this host (taylor): /proc/driver/nvidia/version does not exist\n",
      "2022-02-22 18:25:38.314620: I tensorflow/core/platform/cpu_feature_guard.cc:142] This TensorFlow binary is optimized with oneAPI Deep Neural Network Library (oneDNN) to use the following CPU instructions in performance-critical operations:  AVX2 AVX512F FMA\n",
      "To enable them in other operations, rebuild TensorFlow with the appropriate compiler flags.\n"
     ]
    }
   ],
   "source": [
    "from keras import models\n",
    "from keras import layers\n",
    "\n",
    "original_model = models.Sequential()\n",
    "original_model.add(layers.Dense(16, activation='relu', input_shape=(10000,)))\n",
    "original_model.add(layers.Dense(16, activation='relu'))\n",
    "original_model.add(layers.Dense(1, activation='sigmoid'))\n",
    "\n",
    "original_model.compile(optimizer='rmsprop',\n",
    "                       loss='binary_crossentropy',\n",
    "                       metrics=['acc'])"
   ]
  },
  {
   "cell_type": "markdown",
   "metadata": {},
   "source": [
    "Now let's try to replace it with this smaller network:"
   ]
  },
  {
   "cell_type": "code",
   "execution_count": 4,
   "metadata": {
    "tags": []
   },
   "outputs": [],
   "source": [
    "smaller_model = models.Sequential()\n",
    "smaller_model.add(layers.Dense(4, activation='relu', input_shape=(10000,)))\n",
    "smaller_model.add(layers.Dense(4, activation='relu'))\n",
    "smaller_model.add(layers.Dense(1, activation='sigmoid'))\n",
    "\n",
    "smaller_model.compile(optimizer='rmsprop',\n",
    "                      loss='binary_crossentropy',\n",
    "                      metrics=['acc'])"
   ]
  },
  {
   "cell_type": "markdown",
   "metadata": {},
   "source": [
    "\n",
    "Here's a comparison of the validation losses of the original network and the smaller network. The dots are the validation loss values of \n",
    "the smaller network, and the crosses are the initial network (remember: a lower validation loss signals a better model)."
   ]
  },
  {
   "cell_type": "code",
   "execution_count": 5,
   "metadata": {},
   "outputs": [
    {
     "name": "stderr",
     "output_type": "stream",
     "text": [
      "2022-02-22 18:25:40.047320: I tensorflow/compiler/mlir/mlir_graph_optimization_pass.cc:185] None of the MLIR Optimization Passes are enabled (registered 2)\n"
     ]
    },
    {
     "name": "stdout",
     "output_type": "stream",
     "text": [
      "Epoch 1/20\n",
      "49/49 [==============================] - 2s 40ms/step - loss: 0.4618 - acc: 0.8186 - val_loss: 0.3465 - val_acc: 0.8766\n",
      "Epoch 2/20\n",
      "49/49 [==============================] - 0s 10ms/step - loss: 0.2657 - acc: 0.9094 - val_loss: 0.2849 - val_acc: 0.8902\n",
      "Epoch 3/20\n",
      "49/49 [==============================] - 0s 8ms/step - loss: 0.2025 - acc: 0.9301 - val_loss: 0.3144 - val_acc: 0.8732\n",
      "Epoch 4/20\n",
      "49/49 [==============================] - 0s 8ms/step - loss: 0.1683 - acc: 0.9403 - val_loss: 0.2903 - val_acc: 0.8852\n",
      "Epoch 5/20\n",
      "49/49 [==============================] - 0s 8ms/step - loss: 0.1467 - acc: 0.9491 - val_loss: 0.3061 - val_acc: 0.8810\n",
      "Epoch 6/20\n",
      "49/49 [==============================] - 0s 8ms/step - loss: 0.1237 - acc: 0.9575 - val_loss: 0.3464 - val_acc: 0.8718\n",
      "Epoch 7/20\n",
      "49/49 [==============================] - 0s 7ms/step - loss: 0.1080 - acc: 0.9630 - val_loss: 0.3499 - val_acc: 0.8750\n",
      "Epoch 8/20\n",
      "49/49 [==============================] - 0s 8ms/step - loss: 0.0930 - acc: 0.9704 - val_loss: 0.4154 - val_acc: 0.8604\n",
      "Epoch 9/20\n",
      "49/49 [==============================] - 0s 7ms/step - loss: 0.0819 - acc: 0.9731 - val_loss: 0.4097 - val_acc: 0.8671\n",
      "Epoch 10/20\n",
      "49/49 [==============================] - 0s 7ms/step - loss: 0.0690 - acc: 0.9787 - val_loss: 0.4336 - val_acc: 0.8662\n",
      "Epoch 11/20\n",
      "49/49 [==============================] - 0s 7ms/step - loss: 0.0609 - acc: 0.9815 - val_loss: 0.4942 - val_acc: 0.8594\n",
      "Epoch 12/20\n",
      "49/49 [==============================] - 0s 7ms/step - loss: 0.0514 - acc: 0.9852 - val_loss: 0.5461 - val_acc: 0.8536\n",
      "Epoch 13/20\n",
      "49/49 [==============================] - 0s 7ms/step - loss: 0.0426 - acc: 0.9883 - val_loss: 0.5357 - val_acc: 0.8565\n",
      "Epoch 14/20\n",
      "49/49 [==============================] - 0s 7ms/step - loss: 0.0346 - acc: 0.9913 - val_loss: 0.6108 - val_acc: 0.8539\n",
      "Epoch 15/20\n",
      "49/49 [==============================] - 0s 8ms/step - loss: 0.0294 - acc: 0.9922 - val_loss: 0.6898 - val_acc: 0.8482\n",
      "Epoch 16/20\n",
      "49/49 [==============================] - 0s 8ms/step - loss: 0.0233 - acc: 0.9940 - val_loss: 0.6337 - val_acc: 0.8559\n",
      "Epoch 17/20\n",
      "49/49 [==============================] - 0s 6ms/step - loss: 0.0183 - acc: 0.9959 - val_loss: 0.8686 - val_acc: 0.8377\n",
      "Epoch 18/20\n",
      "49/49 [==============================] - 0s 7ms/step - loss: 0.0152 - acc: 0.9964 - val_loss: 0.7145 - val_acc: 0.8554\n",
      "Epoch 19/20\n",
      "49/49 [==============================] - 0s 7ms/step - loss: 0.0116 - acc: 0.9978 - val_loss: 0.7585 - val_acc: 0.8531\n",
      "Epoch 20/20\n",
      "49/49 [==============================] - 0s 7ms/step - loss: 0.0108 - acc: 0.9976 - val_loss: 0.8760 - val_acc: 0.8481\n"
     ]
    }
   ],
   "source": [
    "original_hist = original_model.fit(x_train, y_train,\n",
    "                                   epochs=20,\n",
    "                                   batch_size=512,\n",
    "                                   validation_data=(x_test, y_test))"
   ]
  },
  {
   "cell_type": "code",
   "execution_count": 6,
   "metadata": {},
   "outputs": [
    {
     "name": "stdout",
     "output_type": "stream",
     "text": [
      "Epoch 1/20\n",
      "49/49 [==============================] - 2s 34ms/step - loss: 0.5346 - acc: 0.8117 - val_loss: 0.4443 - val_acc: 0.8565\n",
      "Epoch 2/20\n",
      "49/49 [==============================] - 0s 9ms/step - loss: 0.3625 - acc: 0.8924 - val_loss: 0.3484 - val_acc: 0.8812\n",
      "Epoch 3/20\n",
      "49/49 [==============================] - 0s 9ms/step - loss: 0.2793 - acc: 0.9120 - val_loss: 0.3088 - val_acc: 0.8866\n",
      "Epoch 4/20\n",
      "49/49 [==============================] - 0s 8ms/step - loss: 0.2322 - acc: 0.9241 - val_loss: 0.2872 - val_acc: 0.8894\n",
      "Epoch 5/20\n",
      "49/49 [==============================] - 0s 7ms/step - loss: 0.2019 - acc: 0.9320 - val_loss: 0.2792 - val_acc: 0.8907\n",
      "Epoch 6/20\n",
      "49/49 [==============================] - 1s 11ms/step - loss: 0.1795 - acc: 0.9400 - val_loss: 0.2823 - val_acc: 0.8867\n",
      "Epoch 7/20\n",
      "49/49 [==============================] - 0s 8ms/step - loss: 0.1624 - acc: 0.9467 - val_loss: 0.2843 - val_acc: 0.8861\n",
      "Epoch 8/20\n",
      "49/49 [==============================] - 1s 11ms/step - loss: 0.1484 - acc: 0.9508 - val_loss: 0.2920 - val_acc: 0.8837\n",
      "Epoch 9/20\n",
      "49/49 [==============================] - 0s 9ms/step - loss: 0.1365 - acc: 0.9546 - val_loss: 0.3006 - val_acc: 0.8816\n",
      "Epoch 10/20\n",
      "49/49 [==============================] - 1s 15ms/step - loss: 0.1267 - acc: 0.9580 - val_loss: 0.3159 - val_acc: 0.8787\n",
      "Epoch 11/20\n",
      "49/49 [==============================] - 1s 20ms/step - loss: 0.1179 - acc: 0.9619 - val_loss: 0.3231 - val_acc: 0.8778\n",
      "Epoch 12/20\n",
      "49/49 [==============================] - 1s 11ms/step - loss: 0.1095 - acc: 0.9656 - val_loss: 0.3349 - val_acc: 0.8765\n",
      "Epoch 13/20\n",
      "49/49 [==============================] - 0s 10ms/step - loss: 0.1022 - acc: 0.9683 - val_loss: 0.3489 - val_acc: 0.8747\n",
      "Epoch 14/20\n",
      "49/49 [==============================] - 0s 9ms/step - loss: 0.0957 - acc: 0.9706 - val_loss: 0.3623 - val_acc: 0.8729\n",
      "Epoch 15/20\n",
      "49/49 [==============================] - 0s 7ms/step - loss: 0.0894 - acc: 0.9732 - val_loss: 0.3795 - val_acc: 0.8689\n",
      "Epoch 16/20\n",
      "49/49 [==============================] - 0s 7ms/step - loss: 0.0838 - acc: 0.9753 - val_loss: 0.3943 - val_acc: 0.8676\n",
      "Epoch 17/20\n",
      "49/49 [==============================] - 0s 8ms/step - loss: 0.0780 - acc: 0.9779 - val_loss: 0.4269 - val_acc: 0.8644\n",
      "Epoch 18/20\n",
      "49/49 [==============================] - 0s 7ms/step - loss: 0.0730 - acc: 0.9794 - val_loss: 0.4273 - val_acc: 0.8654\n",
      "Epoch 19/20\n",
      "49/49 [==============================] - 1s 14ms/step - loss: 0.0685 - acc: 0.9810 - val_loss: 0.4474 - val_acc: 0.8634\n",
      "Epoch 20/20\n",
      "49/49 [==============================] - 1s 10ms/step - loss: 0.0638 - acc: 0.9820 - val_loss: 0.4653 - val_acc: 0.8621\n"
     ]
    }
   ],
   "source": [
    "smaller_model_hist = smaller_model.fit(x_train, y_train,\n",
    "                                       epochs=20,\n",
    "                                       batch_size=512,\n",
    "                                       validation_data=(x_test, y_test))"
   ]
  },
  {
   "cell_type": "code",
   "execution_count": 7,
   "metadata": {
    "tags": []
   },
   "outputs": [],
   "source": [
    "epochs = range(1, 21)\n",
    "original_val_loss = original_hist.history['val_loss']\n",
    "smaller_model_val_loss = smaller_model_hist.history['val_loss']"
   ]
  },
  {
   "cell_type": "code",
   "execution_count": 8,
   "metadata": {},
   "outputs": [
    {
     "data": {
      "image/png": "[encoded data removed]",
      "text/plain": [
       "<Figure size 432x288 with 1 Axes>"
      ]
     },
     "metadata": {
      "needs_background": "light"
     },
     "output_type": "display_data"
    }
   ],
   "source": [
    "import matplotlib.pyplot as plt\n",
    "\n",
    "# b+ is for \"blue cross\"\n",
    "plt.plot(epochs, original_val_loss, 'b+', label='Original model')\n",
    "# \"bo\" is for \"blue dot\"\n",
    "plt.plot(epochs, smaller_model_val_loss, 'bo', label='Smaller model')\n",
    "plt.xlabel('Epochs')\n",
    "plt.ylabel('Validation loss')\n",
    "plt.legend()\n",
    "\n",
    "plt.show()"
   ]
  },
  {
   "cell_type": "markdown",
   "metadata": {},
   "source": [
    "\n",
    "As you can see, the smaller network starts overfitting later than the reference one (after 6 epochs rather than 4) and its performance \n",
    "degrades much more slowly once it starts overfitting.\n",
    "\n",
    "Now, for kicks, let's add to this benchmark a network that has much more capacity, far more than the problem would warrant:"
   ]
  },
  {
   "cell_type": "code",
   "execution_count": 9,
   "metadata": {
    "tags": []
   },
   "outputs": [],
   "source": [
    "bigger_model = models.Sequential()\n",
    "bigger_model.add(layers.Dense(512, activation='relu', input_shape=(10000,)))\n",
    "bigger_model.add(layers.Dense(512, activation='relu'))\n",
    "bigger_model.add(layers.Dense(1, activation='sigmoid'))\n",
    "\n",
    "bigger_model.compile(optimizer='rmsprop',\n",
    "                     loss='binary_crossentropy',\n",
    "                     metrics=['acc'])"
   ]
  },
  {
   "cell_type": "code",
   "execution_count": 10,
   "metadata": {},
   "outputs": [
    {
     "name": "stdout",
     "output_type": "stream",
     "text": [
      "Epoch 1/20\n",
      "49/49 [==============================] - 4s 72ms/step - loss: 0.4569 - acc: 0.8034 - val_loss: 0.3484 - val_acc: 0.8509\n",
      "Epoch 2/20\n",
      "49/49 [==============================] - 3s 59ms/step - loss: 0.2263 - acc: 0.9095 - val_loss: 0.3125 - val_acc: 0.8750\n",
      "Epoch 3/20\n",
      "49/49 [==============================] - 2s 46ms/step - loss: 0.1338 - acc: 0.9510 - val_loss: 0.5473 - val_acc: 0.7972\n",
      "Epoch 4/20\n",
      "49/49 [==============================] - 2s 35ms/step - loss: 0.0572 - acc: 0.9815 - val_loss: 0.6241 - val_acc: 0.8480\n",
      "Epoch 5/20\n",
      "49/49 [==============================] - 2s 34ms/step - loss: 0.0696 - acc: 0.9871 - val_loss: 0.5139 - val_acc: 0.8794\n",
      "Epoch 6/20\n",
      "49/49 [==============================] - 2s 33ms/step - loss: 0.0021 - acc: 0.9998 - val_loss: 0.7149 - val_acc: 0.8773\n",
      "Epoch 7/20\n",
      "49/49 [==============================] - 2s 37ms/step - loss: 0.1389 - acc: 0.9874 - val_loss: 0.7105 - val_acc: 0.8740\n",
      "Epoch 8/20\n",
      "49/49 [==============================] - 2s 34ms/step - loss: 5.6265e-04 - acc: 1.0000 - val_loss: 0.7454 - val_acc: 0.8794\n",
      "Epoch 9/20\n",
      "49/49 [==============================] - 2s 37ms/step - loss: 7.2883e-05 - acc: 1.0000 - val_loss: 0.8964 - val_acc: 0.8794\n",
      "Epoch 10/20\n",
      "49/49 [==============================] - 2s 33ms/step - loss: 0.1352 - acc: 0.9898 - val_loss: 0.6940 - val_acc: 0.8745\n",
      "Epoch 11/20\n",
      "49/49 [==============================] - 2s 32ms/step - loss: 6.3987e-05 - acc: 1.0000 - val_loss: 0.8132 - val_acc: 0.8768\n",
      "Epoch 12/20\n",
      "49/49 [==============================] - 2s 33ms/step - loss: 1.5219e-05 - acc: 1.0000 - val_loss: 0.9183 - val_acc: 0.8782\n",
      "Epoch 13/20\n",
      "49/49 [==============================] - 2s 32ms/step - loss: 4.1132e-06 - acc: 1.0000 - val_loss: 1.0494 - val_acc: 0.8785\n",
      "Epoch 14/20\n",
      "49/49 [==============================] - 2s 33ms/step - loss: 9.0579e-07 - acc: 1.0000 - val_loss: 1.1940 - val_acc: 0.8790\n",
      "Epoch 15/20\n",
      "49/49 [==============================] - 2s 33ms/step - loss: 1.8753e-07 - acc: 1.0000 - val_loss: 1.3277 - val_acc: 0.8794\n",
      "Epoch 16/20\n",
      "49/49 [==============================] - 2s 33ms/step - loss: 4.9713e-08 - acc: 1.0000 - val_loss: 1.4221 - val_acc: 0.8791\n",
      "Epoch 17/20\n",
      "49/49 [==============================] - 2s 32ms/step - loss: 2.1115e-08 - acc: 1.0000 - val_loss: 1.4746 - val_acc: 0.8790\n",
      "Epoch 18/20\n",
      "49/49 [==============================] - 2s 32ms/step - loss: 1.3099e-08 - acc: 1.0000 - val_loss: 1.5059 - val_acc: 0.8790\n",
      "Epoch 19/20\n",
      "49/49 [==============================] - 2s 31ms/step - loss: 9.5225e-09 - acc: 1.0000 - val_loss: 1.5284 - val_acc: 0.8793\n",
      "Epoch 20/20\n",
      "49/49 [==============================] - 2s 32ms/step - loss: 7.4928e-09 - acc: 1.0000 - val_loss: 1.5474 - val_acc: 0.8791\n"
     ]
    }
   ],
   "source": [
    "bigger_model_hist = bigger_model.fit(x_train, y_train,\n",
    "                                     epochs=20,\n",
    "                                     batch_size=512,\n",
    "                                     validation_data=(x_test, y_test))"
   ]
  },
  {
   "cell_type": "markdown",
   "metadata": {},
   "source": [
    "Here's how the bigger network fares compared to the reference one. The dots are the validation loss values of the bigger network, and the \n",
    "crosses are the initial network."
   ]
  },
  {
   "cell_type": "code",
   "execution_count": 11,
   "metadata": {},
   "outputs": [
    {
     "data": {
      "image/png": "[encoded data removed]",
      "text/plain": [
       "<Figure size 432x288 with 1 Axes>"
      ]
     },
     "metadata": {
      "needs_background": "light"
     },
     "output_type": "display_data"
    }
   ],
   "source": [
    "bigger_model_val_loss = bigger_model_hist.history['val_loss']\n",
    "\n",
    "plt.plot(epochs, original_val_loss, 'b+', label='Original model')\n",
    "plt.plot(epochs, bigger_model_val_loss, 'bo', label='Bigger model')\n",
    "plt.xlabel('Epochs')\n",
    "plt.ylabel('Validation loss')\n",
    "plt.legend()\n",
    "\n",
    "plt.show()"
   ]
  },
  {
   "cell_type": "markdown",
   "metadata": {},
   "source": [
    "\n",
    "The bigger network starts overfitting almost right away, after just one epoch, and overfits much more severely. Its validation loss is also \n",
    "more noisy.\n",
    "\n",
    "Meanwhile, here are the training losses for our two networks:"
   ]
  },
  {
   "cell_type": "code",
   "execution_count": 12,
   "metadata": {},
   "outputs": [
    {
     "data": {
      "image/png": "[encoded data removed]",
      "text/plain": [
       "<Figure size 432x288 with 1 Axes>"
      ]
     },
     "metadata": {
      "needs_background": "light"
     },
     "output_type": "display_data"
    }
   ],
   "source": [
    "original_train_loss = original_hist.history['loss']\n",
    "bigger_model_train_loss = bigger_model_hist.history['loss']\n",
    "\n",
    "plt.plot(epochs, original_train_loss, 'b+', label='Original model')\n",
    "plt.plot(epochs, bigger_model_train_loss, 'bo', label='Bigger model')\n",
    "plt.xlabel('Epochs')\n",
    "plt.ylabel('Training loss')\n",
    "plt.legend()\n",
    "\n",
    "plt.show()"
   ]
  },
  {
   "cell_type": "markdown",
   "metadata": {},
   "source": [
    "As you can see, the bigger network gets its training loss near zero very quickly. The more capacity the network has, the quicker it will be \n",
    "able to model the training data (resulting in a low training loss), but the more susceptible it is to overfitting (resulting in a large \n",
    "difference between the training and validation loss)."
   ]
  },
  {
   "cell_type": "markdown",
   "metadata": {},
   "source": [
    "## Adding weight regularization\n",
    "\n",
    "\n",
    "You may be familiar with _Occam's Razor_ principle: given two explanations for something, the explanation most likely to be correct is the \n",
    "\"simplest\" one, the one that makes the least amount of assumptions. This also applies to the models learned by neural networks: given some \n",
    "training data and a network architecture, there are multiple sets of weights values (multiple _models_) that could explain the data, and \n",
    "simpler models are less likely to overfit than complex ones.\n",
    "\n",
    "A \"simple model\" in this context is a model where the distribution of parameter values has less entropy (or a model with fewer \n",
    "parameters altogether, as we saw in the section above). Thus a common way to mitigate overfitting is to put constraints on the complexity \n",
    "of a network by forcing its weights to only take small values, which makes the distribution of weight values more \"regular\". This is called \n",
    "\"weight regularization\", and it is done by adding to the loss function of the network a _cost_ associated with having large weights. This \n",
    "cost comes in two flavors:\n",
    "\n",
    "* L1 regularization, where the cost added is proportional to the _absolute value of the weights coefficients_ (i.e. to what is called the \n",
    "\"L1 norm\" of the weights).\n",
    "* L2 regularization, where the cost added is proportional to the _square of the value of the weights coefficients_ (i.e. to what is called \n",
    "the \"L2 norm\" of the weights). L2 regularization is also called _weight decay_ in the context of neural networks. Don't let the different \n",
    "name confuse you: weight decay is mathematically the exact same as L2 regularization.\n",
    "\n",
    "In Keras, weight regularization is added by passing _weight regularizer instances_ to layers as keyword arguments. Let's add L2 weight \n",
    "regularization to our movie review classification network:"
   ]
  },
  {
   "cell_type": "code",
   "execution_count": 13,
   "metadata": {
    "tags": []
   },
   "outputs": [],
   "source": [
    "from keras import regularizers\n",
    "\n",
    "l2_model = models.Sequential()\n",
    "l2_model.add(layers.Dense(16, kernel_regularizer=regularizers.l2(0.001),\n",
    "                          activation='relu', input_shape=(10000,)))\n",
    "l2_model.add(layers.Dense(16, kernel_regularizer=regularizers.l2(0.001),\n",
    "                          activation='relu'))\n",
    "l2_model.add(layers.Dense(1, activation='sigmoid'))"
   ]
  },
  {
   "cell_type": "code",
   "execution_count": 14,
   "metadata": {
    "tags": []
   },
   "outputs": [],
   "source": [
    "l2_model.compile(optimizer='rmsprop',\n",
    "                 loss='binary_crossentropy',\n",
    "                 metrics=['acc'])"
   ]
  },
  {
   "cell_type": "markdown",
   "metadata": {},
   "source": [
    "`l2(0.001)` means that every coefficient in the weight matrix of the layer will add `0.001 * weight_coefficient_value` to the total loss of \n",
    "the network. Note that because this penalty is _only added at training time_, the loss for this network will be much higher at training \n",
    "than at test time.\n",
    "\n",
    "Here's the impact of our L2 regularization penalty:"
   ]
  },
  {
   "cell_type": "code",
   "execution_count": 15,
   "metadata": {},
   "outputs": [
    {
     "name": "stdout",
     "output_type": "stream",
     "text": [
      "Epoch 1/20\n",
      "49/49 [==============================] - 2s 35ms/step - loss: 0.5590 - acc: 0.7961 - val_loss: 0.4477 - val_acc: 0.8719\n",
      "Epoch 2/20\n",
      "49/49 [==============================] - 0s 8ms/step - loss: 0.3631 - acc: 0.8977 - val_loss: 0.3565 - val_acc: 0.8853\n",
      "Epoch 3/20\n",
      "49/49 [==============================] - 0s 8ms/step - loss: 0.2897 - acc: 0.9178 - val_loss: 0.3477 - val_acc: 0.8808\n",
      "Epoch 4/20\n",
      "49/49 [==============================] - 0s 8ms/step - loss: 0.2598 - acc: 0.9277 - val_loss: 0.3396 - val_acc: 0.8856\n",
      "Epoch 5/20\n",
      "49/49 [==============================] - 0s 8ms/step - loss: 0.2454 - acc: 0.9335 - val_loss: 0.3664 - val_acc: 0.8724\n",
      "Epoch 6/20\n",
      "49/49 [==============================] - 0s 8ms/step - loss: 0.2369 - acc: 0.9360 - val_loss: 0.3478 - val_acc: 0.8832\n",
      "Epoch 7/20\n",
      "49/49 [==============================] - 0s 7ms/step - loss: 0.2289 - acc: 0.9383 - val_loss: 0.3710 - val_acc: 0.8752\n",
      "Epoch 8/20\n",
      "49/49 [==============================] - 0s 7ms/step - loss: 0.2225 - acc: 0.9402 - val_loss: 0.3718 - val_acc: 0.8754\n",
      "Epoch 9/20\n",
      "49/49 [==============================] - 0s 8ms/step - loss: 0.2179 - acc: 0.9428 - val_loss: 0.3688 - val_acc: 0.8769\n",
      "Epoch 10/20\n",
      "49/49 [==============================] - 0s 7ms/step - loss: 0.2120 - acc: 0.9453 - val_loss: 0.3904 - val_acc: 0.8724\n",
      "Epoch 11/20\n",
      "49/49 [==============================] - 0s 7ms/step - loss: 0.2099 - acc: 0.9447 - val_loss: 0.3779 - val_acc: 0.8752\n",
      "Epoch 12/20\n",
      "49/49 [==============================] - 0s 7ms/step - loss: 0.2077 - acc: 0.9469 - val_loss: 0.3804 - val_acc: 0.8766\n",
      "Epoch 13/20\n",
      "49/49 [==============================] - 0s 7ms/step - loss: 0.2022 - acc: 0.9483 - val_loss: 0.3893 - val_acc: 0.8735\n",
      "Epoch 14/20\n",
      "49/49 [==============================] - 0s 7ms/step - loss: 0.2012 - acc: 0.9498 - val_loss: 0.3906 - val_acc: 0.8744\n",
      "Epoch 15/20\n",
      "49/49 [==============================] - 0s 7ms/step - loss: 0.2009 - acc: 0.9484 - val_loss: 0.3965 - val_acc: 0.8721\n",
      "Epoch 16/20\n",
      "49/49 [==============================] - 0s 8ms/step - loss: 0.1939 - acc: 0.9528 - val_loss: 0.4030 - val_acc: 0.8719\n",
      "Epoch 17/20\n",
      "49/49 [==============================] - 0s 7ms/step - loss: 0.1929 - acc: 0.9523 - val_loss: 0.4174 - val_acc: 0.8668\n",
      "Epoch 18/20\n",
      "49/49 [==============================] - 0s 8ms/step - loss: 0.1959 - acc: 0.9492 - val_loss: 0.4082 - val_acc: 0.8704\n",
      "Epoch 19/20\n",
      "49/49 [==============================] - 0s 7ms/step - loss: 0.1896 - acc: 0.9525 - val_loss: 0.4242 - val_acc: 0.8648\n",
      "Epoch 20/20\n",
      "49/49 [==============================] - 0s 8ms/step - loss: 0.1862 - acc: 0.9533 - val_loss: 0.5354 - val_acc: 0.8332\n"
     ]
    }
   ],
   "source": [
    "l2_model_hist = l2_model.fit(x_train, y_train,\n",
    "                             epochs=20,\n",
    "                             batch_size=512,\n",
    "                             validation_data=(x_test, y_test))"
   ]
  },
  {
   "cell_type": "code",
   "execution_count": 16,
   "metadata": {},
   "outputs": [
    {
     "data": {
      "image/png": "[encoded data removed]",
      "text/plain": [
       "<Figure size 432x288 with 1 Axes>"
      ]
     },
     "metadata": {
      "needs_background": "light"
     },
     "output_type": "display_data"
    }
   ],
   "source": [
    "l2_model_val_loss = l2_model_hist.history['val_loss']\n",
    "\n",
    "plt.plot(epochs, original_val_loss, 'b+', label='Original model')\n",
    "plt.plot(epochs, l2_model_val_loss, 'bo', label='L2-regularized model')\n",
    "plt.xlabel('Epochs')\n",
    "plt.ylabel('Validation loss')\n",
    "plt.legend()\n",
    "\n",
    "plt.show()"
   ]
  },
  {
   "cell_type": "markdown",
   "metadata": {},
   "source": [
    "\n",
    "\n",
    "As you can see, the model with L2 regularization (dots) has become much more resistant to overfitting than the reference model (crosses), \n",
    "even though both models have the same number of parameters.\n",
    "\n",
    "As alternatives to L2 regularization, you could use one of the following Keras weight regularizers:"
   ]
  },
  {
   "cell_type": "code",
   "execution_count": 17,
   "metadata": {
    "tags": []
   },
   "outputs": [
    {
     "data": {
      "text/plain": [
       "<keras.regularizers.L1L2 at 0x7fb4e5faef90>"
      ]
     },
     "execution_count": 17,
     "metadata": {},
     "output_type": "execute_result"
    }
   ],
   "source": [
    "from keras import regularizers\n",
    "\n",
    "# L1 regularization\n",
    "regularizers.l1(0.001)\n",
    "\n",
    "# L1 and L2 regularization at the same time\n",
    "regularizers.l1_l2(l1=0.001, l2=0.001)"
   ]
  },
  {
   "cell_type": "markdown",
   "metadata": {},
   "source": [
    "## Adding dropout\n",
    "\n",
    "\n",
    "Dropout is one of the most effective and most commonly used regularization techniques for neural networks, developed by Hinton and his \n",
    "students at the University of Toronto. Dropout, applied to a layer, consists of randomly \"dropping out\" (i.e. setting to zero) a number of \n",
    "output features of the layer during training. Let's say a given layer would normally have returned a vector `[0.2, 0.5, 1.3, 0.8, 1.1]` for a \n",
    "given input sample during training; after applying dropout, this vector will have a few zero entries distributed at random, e.g. `[0, 0.5, \n",
    "1.3, 0, 1.1]`. The \"dropout rate\" is the fraction of the features that are being zeroed-out; it is usually set between 0.2 and 0.5. At test \n",
    "time, no units are dropped out, and instead the layer's output values are scaled down by a factor equal to the dropout rate, so as to \n",
    "balance for the fact that more units are active than at training time.\n",
    "\n",
    "Consider a Numpy matrix containing the output of a layer, `layer_output`, of shape `(batch_size, features)`. At training time, we would be \n",
    "zero-ing out at random a fraction of the values in the matrix:"
   ]
  },
  {
   "cell_type": "code",
   "execution_count": 20,
   "metadata": {
    "tags": []
   },
   "outputs": [],
   "source": [
    "# At training time: we drop out 50% of the units in the output\n",
    "#layer_output *= np.randint(0, high=2, size=layer_output.shape)"
   ]
  },
  {
   "cell_type": "markdown",
   "metadata": {},
   "source": [
    "\n",
    "At test time, we would be scaling the output down by the dropout rate. Here we scale by 0.5 (because we were previous dropping half the \n",
    "units):"
   ]
  },
  {
   "cell_type": "code",
   "execution_count": 21,
   "metadata": {
    "tags": []
   },
   "outputs": [],
   "source": [
    "# At test time:\n",
    "#layer_output *= 0.5"
   ]
  },
  {
   "cell_type": "markdown",
   "metadata": {},
   "source": [
    "\n",
    "Note that this process can be implemented by doing both operations at training time and leaving the output unchanged at test time, which is \n",
    "often the way it is implemented in practice:"
   ]
  },
  {
   "cell_type": "code",
   "execution_count": 22,
   "metadata": {
    "tags": []
   },
   "outputs": [],
   "source": [
    "# At training time:\n",
    "#layer_output *= np.randint(0, high=2, size=layer_output.shape)\n",
    "# Note that we are scaling *up* rather scaling *down* in this case\n",
    "#layer_output /= 0.5"
   ]
  },
  {
   "cell_type": "markdown",
   "metadata": {},
   "source": [
    "\n",
    "This technique may seem strange and arbitrary. Why would this help reduce overfitting? Geoff Hinton has said that he was inspired, among \n",
    "other things, by a fraud prevention mechanism used by banks -- in his own words: _\"I went to my bank. The tellers kept changing and I asked \n",
    "one of them why. He said he didn’t know but they got moved around a lot. I figured it must be because it would require cooperation \n",
    "between employees to successfully defraud the bank. This made me realize that randomly removing a different subset of neurons on each \n",
    "example would prevent conspiracies and thus reduce overfitting\"_.\n",
    "\n",
    "The core idea is that introducing noise in the output values of a layer can break up happenstance patterns that are not significant (what \n",
    "Hinton refers to as \"conspiracies\"), which the network would start memorizing if no noise was present. \n",
    "\n",
    "In Keras you can introduce dropout in a network via the `Dropout` layer, which gets applied to the output of layer right before it, e.g.:"
   ]
  },
  {
   "cell_type": "code",
   "execution_count": 24,
   "metadata": {
    "tags": []
   },
   "outputs": [],
   "source": [
    "#model.add(layers.Dropout(0.5))"
   ]
  },
  {
   "cell_type": "markdown",
   "metadata": {},
   "source": [
    "Let's add two `Dropout` layers in our IMDB network to see how well they do at reducing overfitting:"
   ]
  },
  {
   "cell_type": "code",
   "execution_count": 25,
   "metadata": {
    "tags": []
   },
   "outputs": [],
   "source": [
    "dpt_model = models.Sequential()\n",
    "dpt_model.add(layers.Dense(16, activation='relu', input_shape=(10000,)))\n",
    "dpt_model.add(layers.Dropout(0.5))\n",
    "dpt_model.add(layers.Dense(16, activation='relu'))\n",
    "dpt_model.add(layers.Dropout(0.5))\n",
    "dpt_model.add(layers.Dense(1, activation='sigmoid'))\n",
    "\n",
    "dpt_model.compile(optimizer='rmsprop',\n",
    "                  loss='binary_crossentropy',\n",
    "                  metrics=['acc'])"
   ]
  },
  {
   "cell_type": "code",
   "execution_count": 26,
   "metadata": {},
   "outputs": [
    {
     "name": "stdout",
     "output_type": "stream",
     "text": [
      "Epoch 1/20\n",
      "49/49 [==============================] - 2s 40ms/step - loss: 0.6065 - acc: 0.6655 - val_loss: 0.4597 - val_acc: 0.8400\n",
      "Epoch 2/20\n",
      "49/49 [==============================] - 0s 10ms/step - loss: 0.4418 - acc: 0.8140 - val_loss: 0.3264 - val_acc: 0.8821\n",
      "Epoch 3/20\n",
      "49/49 [==============================] - 0s 10ms/step - loss: 0.3425 - acc: 0.8746 - val_loss: 0.2849 - val_acc: 0.8882\n",
      "Epoch 4/20\n",
      "49/49 [==============================] - 1s 10ms/step - loss: 0.2867 - acc: 0.8990 - val_loss: 0.2771 - val_acc: 0.8880\n",
      "Epoch 5/20\n",
      "49/49 [==============================] - 0s 9ms/step - loss: 0.2490 - acc: 0.9137 - val_loss: 0.2755 - val_acc: 0.8888\n",
      "Epoch 6/20\n",
      "49/49 [==============================] - 1s 11ms/step - loss: 0.2172 - acc: 0.9254 - val_loss: 0.2970 - val_acc: 0.8846\n",
      "Epoch 7/20\n",
      "49/49 [==============================] - 1s 11ms/step - loss: 0.1918 - acc: 0.9355 - val_loss: 0.3156 - val_acc: 0.8866\n",
      "Epoch 8/20\n",
      "49/49 [==============================] - 0s 10ms/step - loss: 0.1738 - acc: 0.9416 - val_loss: 0.3283 - val_acc: 0.8852\n",
      "Epoch 9/20\n",
      "49/49 [==============================] - 0s 9ms/step - loss: 0.1600 - acc: 0.9466 - val_loss: 0.3473 - val_acc: 0.8816\n",
      "Epoch 10/20\n",
      "49/49 [==============================] - 0s 8ms/step - loss: 0.1479 - acc: 0.9495 - val_loss: 0.3742 - val_acc: 0.8816\n",
      "Epoch 11/20\n",
      "49/49 [==============================] - 0s 7ms/step - loss: 0.1363 - acc: 0.9537 - val_loss: 0.4094 - val_acc: 0.8807\n",
      "Epoch 12/20\n",
      "49/49 [==============================] - 0s 7ms/step - loss: 0.1305 - acc: 0.9557 - val_loss: 0.4300 - val_acc: 0.8783\n",
      "Epoch 13/20\n",
      "49/49 [==============================] - 0s 8ms/step - loss: 0.1228 - acc: 0.9580 - val_loss: 0.4523 - val_acc: 0.8779\n",
      "Epoch 14/20\n",
      "49/49 [==============================] - 0s 8ms/step - loss: 0.1182 - acc: 0.9600 - val_loss: 0.4777 - val_acc: 0.8762\n",
      "Epoch 15/20\n",
      "49/49 [==============================] - 0s 7ms/step - loss: 0.1141 - acc: 0.9609 - val_loss: 0.5078 - val_acc: 0.8774\n",
      "Epoch 16/20\n",
      "49/49 [==============================] - 0s 7ms/step - loss: 0.1090 - acc: 0.9608 - val_loss: 0.5300 - val_acc: 0.8777\n",
      "Epoch 17/20\n",
      "49/49 [==============================] - 0s 7ms/step - loss: 0.1062 - acc: 0.9630 - val_loss: 0.5503 - val_acc: 0.8768\n",
      "Epoch 18/20\n",
      "49/49 [==============================] - 0s 8ms/step - loss: 0.1061 - acc: 0.9629 - val_loss: 0.5953 - val_acc: 0.8741\n",
      "Epoch 19/20\n",
      "49/49 [==============================] - 0s 7ms/step - loss: 0.1010 - acc: 0.9631 - val_loss: 0.5712 - val_acc: 0.8746\n",
      "Epoch 20/20\n",
      "49/49 [==============================] - 0s 9ms/step - loss: 0.0986 - acc: 0.9643 - val_loss: 0.6185 - val_acc: 0.8758\n"
     ]
    }
   ],
   "source": [
    "dpt_model_hist = dpt_model.fit(x_train, y_train,\n",
    "                               epochs=20,\n",
    "                               batch_size=512,\n",
    "                               validation_data=(x_test, y_test))"
   ]
  },
  {
   "cell_type": "markdown",
   "metadata": {},
   "source": [
    "Let's plot the results:"
   ]
  },
  {
   "cell_type": "code",
   "execution_count": 27,
   "metadata": {},
   "outputs": [
    {
     "data": {
      "image/png": "[encoded data removed]",
      "text/plain": [
       "<Figure size 432x288 with 1 Axes>"
      ]
     },
     "metadata": {
      "needs_background": "light"
     },
     "output_type": "display_data"
    }
   ],
   "source": [
    "dpt_model_val_loss = dpt_model_hist.history['val_loss']\n",
    "\n",
    "plt.plot(epochs, original_val_loss, 'b+', label='Original model')\n",
    "plt.plot(epochs, dpt_model_val_loss, 'bo', label='Dropout-regularized model')\n",
    "plt.xlabel('Epochs')\n",
    "plt.ylabel('Validation loss')\n",
    "plt.legend()\n",
    "\n",
    "plt.show()"
   ]
  },
  {
   "cell_type": "markdown",
   "metadata": {},
   "source": [
    "\n",
    "Again, a clear improvement over the reference network.\n",
    "\n",
    "To recap: here the most common ways to prevent overfitting in neural networks:\n",
    "\n",
    "* Getting more training data.\n",
    "* Reducing the capacity of the network.\n",
    "* Adding weight regularization.\n",
    "* Adding dropout."
   ]
  }
 ],
 "metadata": {
  "kernelspec": {
   "display_name": "Python 3 (ipykernel)",
   "language": "python",
   "name": "python3"
  },
  "language_info": {
   "codemirror_mode": {
    "name": "ipython",
    "version": 3
   },
   "file_extension": ".py",
   "mimetype": "text/x-python",
   "name": "python",
   "nbconvert_exporter": "python",
   "pygments_lexer": "ipython3",
   "version": "3.7.7"
  }
 },
 "nbformat": 4,
 "nbformat_minor": 4
}
